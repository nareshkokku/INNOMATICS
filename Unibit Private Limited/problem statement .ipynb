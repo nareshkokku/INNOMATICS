{
 "cells": [
  {
   "cell_type": "code",
   "execution_count": null,
   "id": "6e341c26",
   "metadata": {},
   "outputs": [],
   "source": []
  },
  {
   "cell_type": "code",
   "execution_count": null,
   "id": "7e81b969",
   "metadata": {},
   "outputs": [],
   "source": []
  },
  {
   "cell_type": "code",
   "execution_count": 16,
   "id": "6dd0931e",
   "metadata": {},
   "outputs": [
    {
     "name": "stdout",
     "output_type": "stream",
     "text": [
      "First Combination For 4 : [[3, 1], [2, 2], [8, -4]]\n",
      "Merge Into a single Array: [-6, -4, -2, 1, 2, 2, 3, 8]\n",
      "Second Combination For 8 : [[-4, 1, 3, 8], [-4, 2, 2, 8], [1, 2, 2, 3]]\n"
     ]
    }
   ],
   "source": [
    "def find_combinations(nums, target):\n",
    "    combinations = []\n",
    "    # Step 1: Find pairs of integers that sum up to the target value\n",
    "    num_set = set()\n",
    "    for num in nums:\n",
    "        complement = target - num\n",
    "        if complement in num_set:\n",
    "            combinations.append([num, complement])\n",
    "        num_set.add(num)\n",
    "\n",
    "    # Step 2: Merge the array and sort it in ascending order\n",
    "    merged_array = sorted(nums)\n",
    "\n",
    "    # Step 3: Double the target value\n",
    "    doubled_target = target * 2\n",
    "\n",
    "    # Step 4: Find combinations of digits that equal the doubled target value\n",
    "    result = []\n",
    "    n = len(merged_array)\n",
    "    for i in range(n - 3):\n",
    "        for j in range(i + 1, n - 2):\n",
    "            left = j + 1\n",
    "            right = n - 1\n",
    "            while left < right:\n",
    "                current_sum = merged_array[i] + merged_array[j] + merged_array[left] + merged_array[right]\n",
    "                if current_sum == doubled_target:\n",
    "                    result.append([merged_array[i], merged_array[j], merged_array[left], merged_array[right]])\n",
    "                    left += 1\n",
    "                    right -= 1\n",
    "                elif current_sum < doubled_target:\n",
    "                    left += 1\n",
    "                else:\n",
    "                    right -= 1\n",
    "\n",
    "    return combinations, merged_array, result\n",
    "\n",
    "\n",
    "# Test the function with the given sample input\n",
    "nums = [1, 3, 2, 2, -4, -6, -2, 8]\n",
    "target = 4\n",
    "combinations, merged_array, result = find_combinations(nums, target)\n",
    "\n",
    "print(\"First Combination For\", target, \":\", combinations)\n",
    "print(\"Merge Into a single Array:\", merged_array)\n",
    "print(\"Second Combination For\", target * 2, \":\", result)\n"
   ]
  },
  {
   "cell_type": "code",
   "execution_count": null,
   "id": "1cbb2a8e",
   "metadata": {},
   "outputs": [],
   "source": []
  }
 ],
 "metadata": {
  "kernelspec": {
   "display_name": "Python 3 (ipykernel)",
   "language": "python",
   "name": "python3"
  },
  "language_info": {
   "codemirror_mode": {
    "name": "ipython",
    "version": 3
   },
   "file_extension": ".py",
   "mimetype": "text/x-python",
   "name": "python",
   "nbconvert_exporter": "python",
   "pygments_lexer": "ipython3",
   "version": "3.9.13"
  }
 },
 "nbformat": 4,
 "nbformat_minor": 5
}
